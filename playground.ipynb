{
 "cells": [
  {
   "cell_type": "code",
   "execution_count": 1,
   "metadata": {},
   "outputs": [],
   "source": [
    "import torch\n",
    "import numpy as np\n",
    "import pandas as pd\n",
    "import logging\n",
    "import time\n",
    "import torch.nn as nn\n",
    "import tensorflow as tf \n",
    "\n",
    "from tensorflow import keras\n",
    "from tensorflow.keras import layers\n",
    "from transformers import BertConfig, BertForSequenceClassification, BertTokenizer, BertTokenizerFast, BertModel, AdamW, TFBertModel\n",
    "from transformers.modeling_bert import BertEmbeddings, BertSelfAttention\n",
    "from torch.utils.data import Dataset, DataLoader\n",
    "from keras.preprocessing.sequence import pad_sequences\n",
    "from sklearn.metrics import classification_report, accuracy_score, f1_score\n",
    "from tqdm import trange, tqdm, tqdm_notebook, tqdm_pandas, tqdm_gui\n",
    "\n",
    "logging.getLogger(\"transformers.tokenization_utils\").setLevel(logging.ERROR)\n",
    "\n",
    "\n",
    "PRE_TRAINED = 'bert-base-uncased'\n",
    "DEVICE = 'cuda' if torch.cuda.is_available() else 'cpu'\n",
    "\n",
    "\n",
    "class MyDataset(Dataset):\n",
    "    def __init__(self, x, y=None):\n",
    "        super(MyDataset, self).__init__()\n",
    "        self.x = x\n",
    "        self.y = y\n",
    "        self.tokenizer = BertTokenizerFast.from_pretrained(PRE_TRAINED)\n",
    "        \n",
    "    def __getitem__(self, i):\n",
    "        sen = self.x[i]\n",
    "        encoded = self.tokenizer.encode(sen)\n",
    "        encoded = pad_sequences([encoded], maxlen=512, padding='post')\n",
    "        if self.y is None:\n",
    "            return torch.FloatTensor(encoded[0])\n",
    "        else:\n",
    "            return torch.LongTensor(encoded[0]), torch.FloatTensor([self.y[i]])\n",
    "    \n",
    "    def __len__(self):\n",
    "        return self.x.size\n",
    "    \n",
    "\n",
    "class BertBonz(BertModel):\n",
    "    def __init__(self, config):\n",
    "        super(BertBonz, self).__init__(config)\n",
    "        self.config = config\n",
    "        self.embeddings.add_module('llr_embeddings', nn.Embedding(3, 768, 0))\n",
    "        self.classifier = nn.Linear(768, 1)\n",
    "        self.activation = nn.Sigmoid()\n",
    "        self.init_weights()\n",
    "        \n",
    "        \n",
    "    def forward(self, \n",
    "                input_ids=None, \n",
    "                llr_ids=None, \n",
    "                labels=None, \n",
    "                token_type_ids=None, \n",
    "                position_ids=None):\n",
    "        # BERT EMBEDDINGS NEW\n",
    "        input_shape = input_ids.size()\n",
    "        seq_length = input_shape[1]\n",
    "        device = input_ids.device if input_ids is not None else inputs_embeds.device\n",
    "        \n",
    "        if position_ids is None:\n",
    "            position_ids = torch.arange(seq_length, dtype=torch.long, device=device)\n",
    "            position_ids = position_ids.unsqueeze(0).expand(input_shape)\n",
    "        if token_type_ids is None:\n",
    "            token_type_ids = torch.zeros(input_shape, dtype=torch.long, device=device)\n",
    "        if llr_ids is None:\n",
    "            llr_ids = torch.zeros(input_shape, dtype=torch.long, device=device)\n",
    "\n",
    "        inputs_embeds = self.embeddings.word_embeddings(input_ids)\n",
    "        position_embeddings = self.embeddings.position_embeddings(position_ids)\n",
    "        token_type_embeddings = self.embeddings.token_type_embeddings(token_type_ids)\n",
    "        llr_embeddings = self.embeddings.llr_embeddings(llr_ids)\n",
    "\n",
    "        embeddings = inputs_embeds + position_embeddings + token_type_embeddings + llr_embeddings\n",
    "        embeddings = self.embeddings.LayerNorm(embeddings)\n",
    "        embeddings = self.embeddings.dropout(embeddings)\n",
    "        \n",
    "        \n",
    "        # BERT ENCODER\n",
    "        encoder_outputs = self.encoder(\n",
    "            embeddings,\n",
    "            attention_mask=None,\n",
    "            head_mask=[None]*12,\n",
    "            encoder_hidden_states=None,\n",
    "            encoder_attention_mask=None,\n",
    "            output_attentions=self.config.output_attentions\n",
    "        )\n",
    "        sequence_output = encoder_outputs[0]\n",
    "        \n",
    "        # CLASSIFIER\n",
    "        CLS_token = sequence_output[:,0]\n",
    "        predict = self.activation(self.classifier(CLS_token))\n",
    "        \n",
    "        if labels is not None:\n",
    "            loss = self.loss_fn(predict, labels)\n",
    "            outputs = (predict, loss, CLS_token, sequence_output) + encoder_outputs[1:]  # add hidden_states and attentions if they are here\n",
    "        else:\n",
    "            outputs = (predict, CLS_token, sequence_output) + encoder_outputs[1:]\n",
    "        return outputs\n",
    "    \n",
    "    \n",
    "    def load_pretrained_weight(self):\n",
    "        sd = self.state_dict()\n",
    "        sd_bert_pretrained = BertModel.from_pretrained(PRE_TRAINED).state_dict()\n",
    "        for k in sd_bert_pretrained.keys():\n",
    "            if k in sd.keys():\n",
    "                sd[k] = sd_bert_pretrained[k]\n",
    "        self.load_state_dict(sd)\n",
    "        print('Succesfully load pre-trained weights')\n",
    "        \n",
    "        \n",
    "    def fit(self, \n",
    "            optimizer=None, \n",
    "            loss=None):\n",
    "        self.optimizer = optimizer(self.parameters(), 2e-5)\n",
    "        self.loss_fn = loss\n",
    "        \n",
    "        \n",
    "    def train_(self, \n",
    "              inputs=None, \n",
    "              labels=None, \n",
    "              epochs=None, \n",
    "              batch_size=None):\n",
    "        self.to(DEVICE)\n",
    "        self.train()\n",
    "        \n",
    "        for epoch in range(epochs):\n",
    "            my_dataset = MyDataset(inputs, labels)\n",
    "            dataloader = DataLoader(my_dataset, batch_size=batch_size, shuffle=True)\n",
    "            s = time.time()\n",
    "            loss_train = 0\n",
    "            for x, y in dataloader:\n",
    "                self.optimizer.zero_grad()\n",
    "                outputs = self(input_ids=x.to(DEVICE), labels=y.to(DEVICE))\n",
    "                loss = outputs[1]\n",
    "                loss.backward()\n",
    "                self.optimizer.step()\n",
    "                loss_train += loss.item()\n",
    "                \n",
    "                predict = outputs[0]\n",
    "                print(predict.detach().cpu().numpy().squeeze(-1).tolist())\n",
    "            print(f'Finish epoch {epoch+1}, loss = {loss_train:.2f}, running time {time.time()-s:.2f}')\n",
    "\n",
    "    \n",
    "    \n",
    "def get_data():\n",
    "    data = pd.read_csv('data.csv', sep='\\t', encoding='utf8', error_bad_lines=False)\n",
    "    data['sentiment'] = [1 if rating > 3 else 0 for rating in data['Review\\'s Star Rating'].values]\n",
    "    data['num_words'] = [len(content.split(' ')) for content in data['Review\\'s Content'].values]\n",
    "    \n",
    "    return data\n",
    "\n",
    "\n",
    "def train(model=None, epochs=None):\n",
    "    optimizer = AdamW(model.parameters(), lr=1e-5)\n",
    "    model.train()\n",
    "    model.to(DEVICE)\n",
    "    \n",
    "    for epoch in range(epochs):\n",
    "        my_dataset = MyDataset(x=data['Review\\'s Content'].values, y=data.sentiment.values)\n",
    "        dataloader = DataLoader(my_dataset, batch_size=4, shuffle=True)\n",
    "        s = time.time()\n",
    "        for x, y in dataloader:\n",
    "            optimizer.zero_grad()\n",
    "            loss = model(x=x.to(DEVICE), y=y.to(DEVICE))[0]\n",
    "            loss.backward()\n",
    "            optimizer.step()\n",
    "        print('Finish epoch {}, running time {}'.format(epoch+1, time.time()-s))\n",
    "            \n",
    "    model.eval()\n",
    "    predicts=[]\n",
    "    y_true=[]\n",
    "    for x, y in dataloader:\n",
    "        with torch.no_grad():\n",
    "            predict = model(x=x.to(DEVICE))\n",
    "        predict = predict.detach().cpu().numpy()\n",
    "        predict = predict > 0.5\n",
    "        predicts.extend(predict.tolist())\n",
    "        y_true.extend(y.numpy().tolist())\n",
    "        \n",
    "    print(classification_report(y_true, predicts))\n",
    "    return model"
   ]
  },
  {
   "cell_type": "code",
   "execution_count": 23,
   "metadata": {},
   "outputs": [
    {
     "name": "stdout",
     "output_type": "stream",
     "text": [
      "Succesfully load pre-trained weights\n"
     ]
    }
   ],
   "source": [
    "data = get_data()\n",
    "data = data.sample(frac=1).reset_index(drop=True).iloc[:2]\n",
    "config = BertConfig(num_labels=1)\n",
    "\n",
    "model = BertBonz(config)\n",
    "model.load_pretrained_weight()\n",
    "model.fit(optimizer=AdamW, loss=nn.BCELoss())"
   ]
  },
  {
   "cell_type": "code",
   "execution_count": 24,
   "metadata": {},
   "outputs": [
    {
     "name": "stdout",
     "output_type": "stream",
     "text": [
      "[0.5155052542686462, 0.4985799789428711]\n",
      "Finish epoch 1, loss = 0.68, running time 0.29\n",
      "[0.8045018315315247, 0.7413556575775146]\n",
      "Finish epoch 2, loss = 0.26, running time 0.29\n",
      "[0.8913280367851257, 0.9040607810020447]\n",
      "Finish epoch 3, loss = 0.11, running time 0.30\n"
     ]
    }
   ],
   "source": [
    "model.train_(inputs=data['Review\\'s Content'].values, labels=data.sentiment.values, epochs=3, batch_size=5)"
   ]
  },
  {
   "cell_type": "code",
   "execution_count": 18,
   "metadata": {},
   "outputs": [],
   "source": [
    "col_names = ['TopNumber', 'AirlineName','ReviewerName','Rating','ReviewDate','ReviewTitle',\\\n",
    "             'ReviewText','Tags', 'DateofTravel', 'Aspects', 'ResponserName', 'ResponseDate', 'ResponseText', 'ReviewerProfileUrl',\\\n",
    "             'AirlineUrl','CrawlTime']\n",
    "raw_data = pd.read_csv('./data/airline.txt', sep='\\t', header=None, names=col_names)"
   ]
  },
  {
   "cell_type": "code",
   "execution_count": 19,
   "metadata": {},
   "outputs": [
    {
     "name": "stderr",
     "output_type": "stream",
     "text": [
      "C:\\Users\\MrBonBon\\Miniconda3\\lib\\site-packages\\pandas\\core\\ops\\array_ops.py:253: FutureWarning: elementwise comparison failed; returning scalar instead, but in the future will perform elementwise comparison\n",
      "  res_values = method(rvalues)\n"
     ]
    },
    {
     "data": {
      "text/plain": [
       "0"
      ]
     },
     "execution_count": 19,
     "metadata": {},
     "output_type": "execute_result"
    }
   ],
   "source": [
    "data = raw_data[['ReviewText', 'Rating', 'Aspects']]\n",
    "sum(data.Rating == 'No filling in')"
   ]
  },
  {
   "cell_type": "code",
   "execution_count": 35,
   "metadata": {},
   "outputs": [
    {
     "name": "stdout",
     "output_type": "stream",
     "text": [
      "['Legroom:4', 'Seat comfort:5', 'In-flight Entertainment:5', 'Customer service:5', 'Value for money:5', 'Cleanliness:5', 'Check-in and boarding:5', 'Food and Beverage:5']\n"
     ]
    }
   ],
   "source": [
    "aspects = data.Aspects[data.Aspects != 'No filling in']\n",
    "for i in aspects:\n",
    "    print(i.split('|'))\n",
    "    break"
   ]
  },
  {
   "cell_type": "code",
   "execution_count": 6,
   "metadata": {},
   "outputs": [
    {
     "data": {
      "text/plain": [
       "30522"
      ]
     },
     "execution_count": 6,
     "metadata": {},
     "output_type": "execute_result"
    }
   ],
   "source": [
    "t = BertTokenizerFast.from_pretrained(PRE_TRAINED)\n",
    "len(t.get_vocab())"
   ]
  },
  {
   "cell_type": "code",
   "execution_count": 11,
   "metadata": {},
   "outputs": [],
   "source": [
    "a = 'Today is a good day submission'\n",
    "encoded = t.encode(a)"
   ]
  },
  {
   "cell_type": "code",
   "execution_count": 2,
   "metadata": {},
   "outputs": [
    {
     "name": "stderr",
     "output_type": "stream",
     "text": [
      "b'Skipping line 252160: expected 12 fields, saw 13\\n'\n"
     ]
    }
   ],
   "source": [
    "data = get_data()"
   ]
  },
  {
   "cell_type": "code",
   "execution_count": 31,
   "metadata": {},
   "outputs": [
    {
     "data": {
      "text/plain": [
       "7.3368353843688965"
      ]
     },
     "execution_count": 31,
     "metadata": {},
     "output_type": "execute_result"
    }
   ],
   "source": [
    "s = time.time()\n",
    "b = t.batch_encode_plus(data.ReviewText.values[:100000].tolist())\n",
    "time.time() - s"
   ]
  },
  {
   "cell_type": "code",
   "execution_count": 28,
   "metadata": {},
   "outputs": [
    {
     "data": {
      "text/plain": [
       "0.35000133514404297"
      ]
     },
     "execution_count": 28,
     "metadata": {},
     "output_type": "execute_result"
    }
   ],
   "source": [
    "s = time.time()\n",
    "for i in range(1000):\n",
    "    t.encode(data.ReviewText.values[i:i+1][0])\n",
    "time.time() - s"
   ]
  },
  {
   "cell_type": "code",
   "execution_count": 21,
   "metadata": {},
   "outputs": [
    {
     "data": {
      "text/html": [
       "<div>\n",
       "<style scoped>\n",
       "    .dataframe tbody tr th:only-of-type {\n",
       "        vertical-align: middle;\n",
       "    }\n",
       "\n",
       "    .dataframe tbody tr th {\n",
       "        vertical-align: top;\n",
       "    }\n",
       "\n",
       "    .dataframe thead th {\n",
       "        text-align: right;\n",
       "    }\n",
       "</style>\n",
       "<table border=\"1\" class=\"dataframe\">\n",
       "  <thead>\n",
       "    <tr style=\"text-align: right;\">\n",
       "      <th></th>\n",
       "      <th>ReviewText</th>\n",
       "      <th>Rating</th>\n",
       "      <th>Aspects</th>\n",
       "    </tr>\n",
       "  </thead>\n",
       "  <tbody>\n",
       "    <tr>\n",
       "      <th>0</th>\n",
       "      <td>So, I had this trip aligned for family leisure...</td>\n",
       "      <td>5</td>\n",
       "      <td>Legroom:4|Seat comfort:5|In-flight Entertainme...</td>\n",
       "    </tr>\n",
       "    <tr>\n",
       "      <th>1</th>\n",
       "      <td>Refund agreed to months ago but basically been...</td>\n",
       "      <td>1</td>\n",
       "      <td>Legroom:1|Seat comfort:1|In-flight Entertainme...</td>\n",
       "    </tr>\n",
       "    <tr>\n",
       "      <th>2</th>\n",
       "      <td>Flying to London on Singapore Airlines, we had...</td>\n",
       "      <td>4</td>\n",
       "      <td>Legroom:3|Seat comfort:4|In-flight Entertainme...</td>\n",
       "    </tr>\n",
       "    <tr>\n",
       "      <th>3</th>\n",
       "      <td>This was the return leg of a weekend trip to M...</td>\n",
       "      <td>3</td>\n",
       "      <td>No filling in</td>\n",
       "    </tr>\n",
       "    <tr>\n",
       "      <th>4</th>\n",
       "      <td>I had booked flights to travel with my family ...</td>\n",
       "      <td>4</td>\n",
       "      <td>No filling in</td>\n",
       "    </tr>\n",
       "    <tr>\n",
       "      <th>...</th>\n",
       "      <td>...</td>\n",
       "      <td>...</td>\n",
       "      <td>...</td>\n",
       "    </tr>\n",
       "    <tr>\n",
       "      <th>175843</th>\n",
       "      <td>ANA is partnered with Air Canada for their fli...</td>\n",
       "      <td>4</td>\n",
       "      <td>Legroom:4|Seat comfort:4|In-flight Entertainme...</td>\n",
       "    </tr>\n",
       "    <tr>\n",
       "      <th>175844</th>\n",
       "      <td>This is my first time flying with ANA. Overall...</td>\n",
       "      <td>5</td>\n",
       "      <td>Legroom:4|Seat comfort:4|In-flight Entertainme...</td>\n",
       "    </tr>\n",
       "    <tr>\n",
       "      <th>175845</th>\n",
       "      <td>Excellent Airline to fly with, nice staff and ...</td>\n",
       "      <td>4</td>\n",
       "      <td>Legroom:5|Seat comfort:5|In-flight Entertainme...</td>\n",
       "    </tr>\n",
       "    <tr>\n",
       "      <th>175846</th>\n",
       "      <td>We traveled on ANA with our 1 year old baby. I...</td>\n",
       "      <td>5</td>\n",
       "      <td>Legroom:5|Seat comfort:4|In-flight Entertainme...</td>\n",
       "    </tr>\n",
       "    <tr>\n",
       "      <th>175847</th>\n",
       "      <td>Nice flight from Manila to Japan, the only dow...</td>\n",
       "      <td>4</td>\n",
       "      <td>Legroom:3|Seat comfort:4|In-flight Entertainme...</td>\n",
       "    </tr>\n",
       "  </tbody>\n",
       "</table>\n",
       "<p>175848 rows × 3 columns</p>\n",
       "</div>"
      ],
      "text/plain": [
       "                                               ReviewText  Rating  \\\n",
       "0       So, I had this trip aligned for family leisure...       5   \n",
       "1       Refund agreed to months ago but basically been...       1   \n",
       "2       Flying to London on Singapore Airlines, we had...       4   \n",
       "3       This was the return leg of a weekend trip to M...       3   \n",
       "4       I had booked flights to travel with my family ...       4   \n",
       "...                                                   ...     ...   \n",
       "175843  ANA is partnered with Air Canada for their fli...       4   \n",
       "175844  This is my first time flying with ANA. Overall...       5   \n",
       "175845  Excellent Airline to fly with, nice staff and ...       4   \n",
       "175846  We traveled on ANA with our 1 year old baby. I...       5   \n",
       "175847  Nice flight from Manila to Japan, the only dow...       4   \n",
       "\n",
       "                                                  Aspects  \n",
       "0       Legroom:4|Seat comfort:5|In-flight Entertainme...  \n",
       "1       Legroom:1|Seat comfort:1|In-flight Entertainme...  \n",
       "2       Legroom:3|Seat comfort:4|In-flight Entertainme...  \n",
       "3                                           No filling in  \n",
       "4                                           No filling in  \n",
       "...                                                   ...  \n",
       "175843  Legroom:4|Seat comfort:4|In-flight Entertainme...  \n",
       "175844  Legroom:4|Seat comfort:4|In-flight Entertainme...  \n",
       "175845  Legroom:5|Seat comfort:5|In-flight Entertainme...  \n",
       "175846  Legroom:5|Seat comfort:4|In-flight Entertainme...  \n",
       "175847  Legroom:3|Seat comfort:4|In-flight Entertainme...  \n",
       "\n",
       "[175848 rows x 3 columns]"
      ]
     },
     "execution_count": 21,
     "metadata": {},
     "output_type": "execute_result"
    }
   ],
   "source": [
    "data"
   ]
  }
 ],
 "metadata": {
  "kernelspec": {
   "display_name": "Python 3",
   "language": "python",
   "name": "python3"
  },
  "language_info": {
   "codemirror_mode": {
    "name": "ipython",
    "version": 3
   },
   "file_extension": ".py",
   "mimetype": "text/x-python",
   "name": "python",
   "nbconvert_exporter": "python",
   "pygments_lexer": "ipython3",
   "version": "3.7.3"
  }
 },
 "nbformat": 4,
 "nbformat_minor": 4
}
